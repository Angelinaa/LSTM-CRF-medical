{
 "cells": [
  {
   "cell_type": "code",
   "execution_count": 1,
   "metadata": {
    "collapsed": true
   },
   "outputs": [],
   "source": [
    "# -*- coding: utf8 -*-"
   ]
  },
  {
   "cell_type": "code",
   "execution_count": 2,
   "metadata": {
    "collapsed": true
   },
   "outputs": [],
   "source": [
    "import pandas as pd\n",
    "import numpy as np"
   ]
  },
  {
   "cell_type": "code",
   "execution_count": 3,
   "metadata": {
    "collapsed": true
   },
   "outputs": [],
   "source": [
    "symPath='datasets/symptomMatch.csv'\n",
    "disPath='datasets/diseaseMatch.csv'\n",
    "disDictName = \"datasets/disease_new2.dic\"\n",
    "symDictName = \"datasets/symptom_new2.dic\"\n",
    "bodyDictName = \"datasets/body中文身体部位名称.dic\""
   ]
  },
  {
   "cell_type": "markdown",
   "metadata": {},
   "source": [
    "### 加载词典 "
   ]
  },
  {
   "cell_type": "code",
   "execution_count": 4,
   "metadata": {
    "collapsed": false
   },
   "outputs": [
    {
     "name": "stdout",
     "output_type": "stream",
     "text": [
      "{1: 'DISEASE', 2: 'SYMPTOM', 3: 'BODY'} DISEASE\n",
      "{'DISEASE': 0, 'BODY': 1, 'SYMPTOM': 2}\n"
     ]
    }
   ],
   "source": [
    "id2name={1:'DISEASE', 2:'SYMPTOM',3:'BODY'}\n",
    "print(id2name, id2name[1])\n",
    "tags={'DISEASE', 'SYMPTOM', 'BODY'}\n",
    "idx2tag = list(set(tags))\n",
    "btag2idx = dict([(char,i) for i,char in enumerate(idx2tag)])\n",
    "print(btag2idx)"
   ]
  },
  {
   "cell_type": "code",
   "execution_count": 5,
   "metadata": {
    "collapsed": false
   },
   "outputs": [],
   "source": [
    "def loadDict(dicName, inType):\n",
    "    bodyDict = dict()\n",
    "    for item in open(dicName):\n",
    "        bodyDict[item.strip().replace('\\n','')] = inType\n",
    "    return bodyDict\n",
    "disDict = loadDict(disDictName, 'DISEASE')\n",
    "symDict = loadDict(symDictName, 'SYMPTOM')\n",
    "bodyDict = loadDict(bodyDictName, 'BODY')\n"
   ]
  },
  {
   "cell_type": "code",
   "execution_count": 6,
   "metadata": {
    "collapsed": false
   },
   "outputs": [],
   "source": [
    "def dictOnly():\n",
    "    disOnlyDict = loadDict(\"datasets/disonly\",\"dis\")\n",
    "    symOnlyDict = loadDict(\"datasets/symonly\", \"sym\")\n",
    "    disF = open(\"datasets/disease_new2.dic\",\"w\")\n",
    "    for dis in disDict:\n",
    "        if dis in symOnlyDict:\n",
    "            continue\n",
    "        else:\n",
    "            disF.write(dis.replace(\"...\",\"\")+\"\\n\")\n",
    "    disF.flush()\n",
    "    disF.close()\n",
    "\n",
    "    disE = open(\"datasets/symptom_new2.dic\",\"w\")\n",
    "    for sym in symDict:\n",
    "        if sym in disOnlyDict:\n",
    "            continue\n",
    "        else:\n",
    "            disE.write(sym.replace(\"...\",\"\")+\"\\n\")\n",
    "    disE.flush()\n",
    "    disE.close()\n",
    "#dictOnly()"
   ]
  },
  {
   "cell_type": "code",
   "execution_count": 7,
   "metadata": {
    "collapsed": false
   },
   "outputs": [
    {
     "name": "stdout",
     "output_type": "stream",
     "text": [
      "DISEASE\n",
      "SYMPTOM\n",
      "BODY 1\n"
     ]
    }
   ],
   "source": [
    "print(disDict['孕吐'])\n",
    "print(symDict['鼻翼扇动'])\n",
    "print(bodyDict['口'],btag2idx[(bodyDict['口'])])"
   ]
  },
  {
   "cell_type": "markdown",
   "metadata": {},
   "source": [
    "### 加载待处理的文本"
   ]
  },
  {
   "cell_type": "code",
   "execution_count": 8,
   "metadata": {
    "collapsed": false
   },
   "outputs": [],
   "source": [
    "def row2ner(result, row, name,typeName):\n",
    "    p = row.find(name,0)\n",
    "\n",
    "    while(p!=-1):\n",
    "        result.append(name+' '+str(p)+' '+str(p+len(name))+' '+typeName)\n",
    "        p = row.find(name, p+1)\n",
    "    #print(result)\n",
    "row = '阿司匹林诱发哮喘症状常见症状恶心与呕吐腹泻呼吸困难结膜充血气喘胸闷休克 阿司匹林诱发哮喘好发于中年女性，少见于儿童，\\\n",
    "典型症状是服药30min～2h内出现结膜充血，流涕，颜面及胸部皮肤潮红，热疹，恶心，呕吐，腹泻，偶有荨麻疹，同时伴胸闷，气喘，\\\n",
    "呼吸困难，严重者可出现休克，昏迷，呼吸停止，这类患者治疗反应较差，故一旦发作，无论症状轻重，都应引起高度重视，若鼻息肉，\\\n",
    "阿司匹林过敏和哮喘合并存在，则称为阿司匹林哮喘三联症'\n",
    "result=[]\n",
    "row2ner(result, row,'阿司匹林','DISEASE')"
   ]
  },
  {
   "cell_type": "markdown",
   "metadata": {},
   "source": [
    "### 将检测出的实体转化成BIO格式"
   ]
  },
  {
   "cell_type": "code",
   "execution_count": 9,
   "metadata": {
    "collapsed": true
   },
   "outputs": [],
   "source": [
    "def ner2lable(bio, des,inResult, btype ,itype):\n",
    "    for i in range(len(inResult)):\n",
    "        inStr = inResult[i]\n",
    "        #inArr = inStr.split(\" \")\n",
    "        s = int(inStr[1])\n",
    "        e = int(inStr[2])\n",
    "        bio[s] = btype+\"-\"+inStr[3]\n",
    "        for j in range(s+1, e):\n",
    "            bio[j] = itype+'-'+inStr[3]"
   ]
  },
  {
   "cell_type": "code",
   "execution_count": 30,
   "metadata": {
    "collapsed": false
   },
   "outputs": [],
   "source": [
    "def loadDiseaseDatasets(disPath, columnName,trainPath):\n",
    "    df_dis = pd.read_csv(disPath)\n",
    "    df_dis = df_dis.dropna()\n",
    "    desList = df_dis[columnName].tolist()\n",
    "    f = open(trainPath, \"w\")\n",
    "    for i in range  (len(desList)):\n",
    "        des = desList[i]\n",
    "    #for des in desList[0:100]:\n",
    "        result=[]\n",
    "        #print(\"des:\", len(des),des)\n",
    "        if not des :\n",
    "            continue\n",
    "        #des格式化， bio初始化为O\n",
    "        des = des.replace(' ','').replace('\\t','').replace('\\n','').replace('　','').strip()\n",
    "        #print(des)\n",
    "        bio = ['O' for i in range(len(des))]\n",
    "        #检索所有的疾病，记录起始位置\n",
    "        typeName='DISEASE'\n",
    "        for dis in disDict:\n",
    "            row2ner(result, des, dis, typeName)\n",
    "        #print(result)\n",
    "\n",
    "        #ner2lable(bio, des, result, 'B-DIS','I-DIS')\n",
    "        #检索所有的症状，记录起始位置\n",
    "        result1=[]\n",
    "        typeName='SYMPTOM'\n",
    "        for sym in symDict:\n",
    "            row2ner(result1, des, sym, typeName)\n",
    "        #print(result1)\n",
    "        #ner2lable(bio, des, result1, 'B-SYM','I-SYM')\n",
    "        #检索所有的身体部位，记录起始位置\n",
    "        result2 = []\n",
    "        typeName = 'BODY'\n",
    "        for body in bodyDict:\n",
    "            row2ner(result2, des, body, typeName)\n",
    "        #print(result2)\n",
    "        #ner2lable(bio, des, result2, 'B-BODY','I-BODY')\n",
    "        #print(len(bio),bio)\n",
    "        \n",
    "        result4 = result + result1 + result2\n",
    "        #print(\"result4=\",len(result4),result4)\n",
    "        #字符串转二维数组\n",
    "        result5 = [ [ 0 for i in range(5) ] for j in range(len(result4)) ]\n",
    "        for i in range(len(result4)):\n",
    "            resArr = result4[i].split(' ')\n",
    "            result5[i][0] = resArr[0]\n",
    "            result5[i][1] = int(resArr[1])\n",
    "            result5[i][2] = int(resArr[2])\n",
    "            result5[i][3] = resArr[3]\n",
    "            result5[i][4] = len(resArr[0])\n",
    "        #idex=np.lexsort([result4[:,1]])\n",
    "        #sorted_data = index[idex, :]\n",
    "        #按照起始位置和实体长度排序\n",
    "        result5.sort(key=lambda x:(x[1], x[4]) )\n",
    "        #print(\"5=\",result5)\n",
    "        #选择实体词最长的进行最大匹配\n",
    "        result6 = [ [ 0 for i in range(5) ] for j in range(len(result5)) ]\n",
    "        maxIndexNum = 0\n",
    "        maxIndexAll = 0\n",
    "        i =0\n",
    "        #print(\"len 5 =\", len(result5))\n",
    "        #迭代检索实体词，如果后面的实体词和当前实体词起始索引一致，则找最长的实体，作为当前索引的实体，下一个词的起始索引要大于最长实体的结束索引\n",
    "        while i <(len(result5)-1):\n",
    "           # print(\"i=\",i, result5[i])\n",
    "            indexNew = result5[i][1]\n",
    "            #当前实体索引小于上一实体的结束索引，直接略过，判断下一实体\n",
    "            if indexNew<maxIndexAll:\n",
    "                i = i+1\n",
    "                continue\n",
    "            maxIndex = i\n",
    "            #训练遍历后面的实体，找到同索引的最长实体，记录实体结束索引和下一个实体的序号\n",
    "            for j in range(i+1, len(result5)):\n",
    "                #print(\"j=\",j,result5[j])\n",
    "                if result5[j][1] == indexNew:\n",
    "                    maxIndex = j\n",
    "                    i = maxIndex+1\n",
    "                else:\n",
    "                    maxIndexAll = result5[maxIndex][2]\n",
    "                    i = maxIndex +1\n",
    "                    #print(\"up i=\", i, maxIndex,maxIndexNum)\n",
    "                    break\n",
    "            #print(\"maxindex=\",maxIndex, result5[maxIndex])\n",
    "            result6[maxIndexNum] = result5[maxIndex]\n",
    "            maxIndexNum += 1\n",
    "        result6 = result6[0:maxIndexNum]\n",
    "        #print(\"===============6:===========\",result6)\n",
    "        \n",
    "        ner2lable(bio, des, result6, 'B','I')\n",
    "        \n",
    "        for nerIndex in range(len(bio)):\n",
    "            f.write(des[nerIndex] +\" \"+ bio[nerIndex]+\"\\n\")\n",
    "        f.write(\"\\n\")\n",
    "    f.flush()\n",
    "    f.close()\n",
    "#disPath = 'datasets/diseaseAllSample.res'\n",
    "symPath = \"datasets/symptomMatch.csv\"\n",
    "disPath = \"datasets/diseaseMatch.csv\"\n",
    "trainPathDis = \"datasets/ner_train_data_dis\"\n",
    "columnName=\"symptomDes\"\n",
    "trainPath = \"datasets/ner_train_data_sym\"\n",
    "\n",
    "loadDiseaseDatasets(symPath,columnName, trainPath)\n",
    "#loadDiseaseDatasets(disPath,columnName, trainPathDis)"
   ]
  },
  {
   "cell_type": "code",
   "execution_count": 31,
   "metadata": {
    "collapsed": false
   },
   "outputs": [
    {
     "name": "stdout",
     "output_type": "stream",
     "text": [
      "done\n"
     ]
    }
   ],
   "source": [
    "print(\"done\")"
   ]
  },
  {
   "cell_type": "code",
   "execution_count": null,
   "metadata": {
    "collapsed": true
   },
   "outputs": [],
   "source": []
  }
 ],
 "metadata": {
  "anaconda-cloud": {},
  "kernelspec": {
   "display_name": "Python [default]",
   "language": "python",
   "name": "python3"
  },
  "language_info": {
   "codemirror_mode": {
    "name": "ipython",
    "version": 3
   },
   "file_extension": ".py",
   "mimetype": "text/x-python",
   "name": "python",
   "nbconvert_exporter": "python",
   "pygments_lexer": "ipython3",
   "version": "3.5.2"
  }
 },
 "nbformat": 4,
 "nbformat_minor": 1
}
